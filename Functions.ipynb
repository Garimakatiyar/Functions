{
  "nbformat": 4,
  "nbformat_minor": 0,
  "metadata": {
    "colab": {
      "provenance": []
    },
    "kernelspec": {
      "name": "python3",
      "display_name": "Python 3"
    },
    "language_info": {
      "name": "python"
    }
  },
  "cells": [
    {
      "cell_type": "markdown",
      "source": [
        "#FUNCTIONS"
      ],
      "metadata": {
        "id": "OJpXfv7XWt70"
      }
    },
    {
      "cell_type": "markdown",
      "source": [
        "1. What is the difference between a function and a method in Python ?\n",
        "- A function is independent and not tied to any object. It is defined using the def keyword or the lambda keyword. It can be called on its own.\n",
        "On the other hand, A method is a function which is associated with an object. It is called using dot(.) notation on an object. It always takes the object itself as its first parameter."
      ],
      "metadata": {
        "id": "EhWP_zDkW3Py"
      }
    },
    {
      "cell_type": "markdown",
      "source": [
        "2.  Explain the concept of function arguments and parameters in Python.\n",
        "- Function arguments are the actual values you pass to a function when you call it. Parameters are placeholders defined in the function declaration. They act as variables that accept values when the function is called."
      ],
      "metadata": {
        "id": "zk45vwYqZ3n6"
      }
    },
    {
      "cell_type": "markdown",
      "source": [
        "3. What are the different ways to define and call a function in Python?\n",
        "- There are many different ways to call a function in python.\n",
        "1. Simple call i.e., No arguments passed\n",
        "Eg - def hel():\n",
        "          print(\"Hello World !\")\n",
        "    hel()\n",
        "\n",
        "2. Call with Positional arguments\n",
        "Eg - def greet(name):\n",
        "         print(\"Hello,\", name)\n",
        "     greet(Garima)\n",
        "\n",
        "3. Call with keyword arguments\n",
        "Eg - def student(name, grade)\n",
        "          print(f\" {name} is in grade {grade}\")\n",
        "    student(name = \"Garima\", grade = \"6\")\n",
        "\n",
        "4.Call with default argument\n",
        "Eg - def greet(name = \"Guest\"):\n",
        "         print(\"Hello\", name)\n",
        "\n",
        "     greet()\n",
        "     greet(\"Garima\")\n",
        "5. Call lambda function\n",
        "  sq = lambda x : x*X\n",
        "  print(sq(7))"
      ],
      "metadata": {
        "id": "YDmnq5ClaXbR"
      }
    },
    {
      "cell_type": "markdown",
      "source": [
        "4.  What is the purpose of the `return` statement in a Python function?\n",
        "-  The purpose of the 'return' statement in a python function is that it sends a value back from a function. It also ends the function's execution. It can return multiple values if no return, the function returns None by default."
      ],
      "metadata": {
        "id": "keyXjPwDhDrr"
      }
    },
    {
      "cell_type": "markdown",
      "source": [
        "5.  What are iterators in Python and how do they differ from iterables?\n",
        "- Iterator is an object that keeps track of where it is during iteration but iterable is an object that can be looped over (like in a for loop)."
      ],
      "metadata": {
        "id": "igGy6rZVhxmC"
      }
    },
    {
      "cell_type": "markdown",
      "source": [
        "6. Explain the concept of generators in Python and how they are defined.\n",
        "- A generator is a special type of iterator in python that lets you generate values on the fly without storing them all in memory. It is used to create a sequence of values, especially useful when the data is large or infinite.\n",
        "Generators are defined just like functions, but used the yield keyword instead of return."
      ],
      "metadata": {
        "id": "ciFzrdRTif_X"
      }
    },
    {
      "cell_type": "markdown",
      "source": [
        "7.  What are the advantages of using generators over regular functions?\n",
        "- Generators are more memory efficient. It doesn't store all values in memory and generate values one at a time on demand. It starts producing results immediately. There's no need to wait for all computations to finish before getting the first result.\n"
      ],
      "metadata": {
        "id": "NamcssiljGhe"
      }
    },
    {
      "cell_type": "markdown",
      "source": [
        "8. What is a lambda function in Python and when is it typically used?\n",
        "- A lambda function in python is a small, anonymous function defined using the lambda keyword instead of def. It must consist of a single expression. It return the value of that expression automatically.\n",
        "Lambda functions are usually used when : 1. You need a small, one time use function. 2. You don't want to define a full function using def."
      ],
      "metadata": {
        "id": "7UiTJshaj4HB"
      }
    },
    {
      "cell_type": "markdown",
      "source": [
        "9. Explain the purpose and usage of the `map()` function in Python.\n",
        "- The map() function is used to apply a function to every item in an iterable(like a list, tuple, etc.) and return a new map object(which can be converted to a list, tuple, etc.)"
      ],
      "metadata": {
        "id": "45LITMWSkjvE"
      }
    },
    {
      "cell_type": "markdown",
      "source": [
        "10. What is the difference between `map()`, `reduce()`, and `filter()` functions in Python?\n",
        "-"
      ],
      "metadata": {
        "id": "YYw67R3nnYb4"
      }
    },
    {
      "cell_type": "markdown",
      "source": [
        "11.Using pen & Paper write the internal mechanism for sum operation using  reduce function on this given list:[47,11,42,13]."
      ],
      "metadata": {
        "id": "Hv3gAv9GzO8F"
      }
    },
    {
      "cell_type": "markdown",
      "source": [
        "# PRACTICAL QUESTIONS"
      ],
      "metadata": {
        "id": "D2y704huNDpN"
      }
    },
    {
      "cell_type": "markdown",
      "source": [
        "1. Write a Python function that takes a list of numbers as input and returns the sum of all even numbers in the list.\n",
        "- def sum1(num):\n",
        "    even1 = 0\n",
        "    for i in num:\n",
        "      if i%2==0:\n",
        "        even1 += i\n",
        "      return even1\n"
      ],
      "metadata": {
        "id": "MCXKiwxwNGrL"
      }
    },
    {
      "cell_type": "code",
      "source": [
        "def sum1(num):\n",
        "    even1 = 0\n",
        "    for i in num:\n",
        "      if i%2==0:\n",
        "        even1 += i\n",
        "      return even1\n"
      ],
      "metadata": {
        "colab": {
          "base_uri": "https://localhost:8080/"
        },
        "id": "MS2-4A4HOADk",
        "outputId": "857d84e9-df47-4876-a1de-fc9e25f304bd"
      },
      "execution_count": null,
      "outputs": [
        {
          "output_type": "stream",
          "name": "stdout",
          "text": [
            "Sum of even numbers 10\n"
          ]
        }
      ]
    },
    {
      "cell_type": "markdown",
      "source": [
        "2. Create a Python function that accepts a string and returns the reverse of that string\n",
        "-"
      ],
      "metadata": {
        "id": "A-w9bvukPOBZ"
      }
    },
    {
      "cell_type": "code",
      "source": [
        "def rev_string(s):\n",
        "  return rev_string[::-1]\n",
        "\n",
        "res = rev_string(\"Garima\")\n",
        "print(\"Reversed string\",res)"
      ],
      "metadata": {
        "colab": {
          "base_uri": "https://localhost:8080/",
          "height": 327
        },
        "id": "fhvVD_lUPSCd",
        "outputId": "63f0593c-bef8-4ce1-bbbf-c2af388ac9cb"
      },
      "execution_count": null,
      "outputs": [
        {
          "output_type": "error",
          "ename": "TypeError",
          "evalue": "'function' object is not subscriptable",
          "traceback": [
            "\u001b[0;31m---------------------------------------------------------------------------\u001b[0m",
            "\u001b[0;31mTypeError\u001b[0m                                 Traceback (most recent call last)",
            "\u001b[0;32m/tmp/ipython-input-16-305631847.py\u001b[0m in \u001b[0;36m<cell line: 0>\u001b[0;34m()\u001b[0m\n\u001b[1;32m      2\u001b[0m   \u001b[0;32mreturn\u001b[0m \u001b[0mrev_string\u001b[0m\u001b[0;34m[\u001b[0m\u001b[0;34m:\u001b[0m\u001b[0;34m:\u001b[0m\u001b[0;34m-\u001b[0m\u001b[0;36m1\u001b[0m\u001b[0;34m]\u001b[0m\u001b[0;34m\u001b[0m\u001b[0;34m\u001b[0m\u001b[0m\n\u001b[1;32m      3\u001b[0m \u001b[0;34m\u001b[0m\u001b[0m\n\u001b[0;32m----> 4\u001b[0;31m \u001b[0mres\u001b[0m \u001b[0;34m=\u001b[0m \u001b[0mrev_string\u001b[0m\u001b[0;34m(\u001b[0m\u001b[0;34m\"Garima\"\u001b[0m\u001b[0;34m)\u001b[0m\u001b[0;34m\u001b[0m\u001b[0;34m\u001b[0m\u001b[0m\n\u001b[0m\u001b[1;32m      5\u001b[0m \u001b[0mprint\u001b[0m\u001b[0;34m(\u001b[0m\u001b[0;34m\"Reversed string\"\u001b[0m\u001b[0;34m,\u001b[0m\u001b[0mres\u001b[0m\u001b[0;34m)\u001b[0m\u001b[0;34m\u001b[0m\u001b[0;34m\u001b[0m\u001b[0m\n",
            "\u001b[0;32m/tmp/ipython-input-16-305631847.py\u001b[0m in \u001b[0;36mrev_string\u001b[0;34m(s)\u001b[0m\n\u001b[1;32m      1\u001b[0m \u001b[0;32mdef\u001b[0m \u001b[0mrev_string\u001b[0m\u001b[0;34m(\u001b[0m\u001b[0ms\u001b[0m\u001b[0;34m)\u001b[0m\u001b[0;34m:\u001b[0m\u001b[0;34m\u001b[0m\u001b[0;34m\u001b[0m\u001b[0m\n\u001b[0;32m----> 2\u001b[0;31m   \u001b[0;32mreturn\u001b[0m \u001b[0mrev_string\u001b[0m\u001b[0;34m[\u001b[0m\u001b[0;34m:\u001b[0m\u001b[0;34m:\u001b[0m\u001b[0;34m-\u001b[0m\u001b[0;36m1\u001b[0m\u001b[0;34m]\u001b[0m\u001b[0;34m\u001b[0m\u001b[0;34m\u001b[0m\u001b[0m\n\u001b[0m\u001b[1;32m      3\u001b[0m \u001b[0;34m\u001b[0m\u001b[0m\n\u001b[1;32m      4\u001b[0m \u001b[0mres\u001b[0m \u001b[0;34m=\u001b[0m \u001b[0mrev_string\u001b[0m\u001b[0;34m(\u001b[0m\u001b[0;34m\"Garima\"\u001b[0m\u001b[0;34m)\u001b[0m\u001b[0;34m\u001b[0m\u001b[0;34m\u001b[0m\u001b[0m\n\u001b[1;32m      5\u001b[0m \u001b[0mprint\u001b[0m\u001b[0;34m(\u001b[0m\u001b[0;34m\"Reversed string\"\u001b[0m\u001b[0;34m,\u001b[0m\u001b[0mres\u001b[0m\u001b[0;34m)\u001b[0m\u001b[0;34m\u001b[0m\u001b[0;34m\u001b[0m\u001b[0m\n",
            "\u001b[0;31mTypeError\u001b[0m: 'function' object is not subscriptable"
          ]
        }
      ]
    }
  ]
}